{
  "nbformat": 4,
  "nbformat_minor": 0,
  "metadata": {
    "colab": {
      "provenance": []
    },
    "kernelspec": {
      "name": "python3",
      "display_name": "Python 3"
    },
    "language_info": {
      "name": "python"
    }
  },
  "cells": [
    {
      "cell_type": "code",
      "execution_count": 33,
      "metadata": {
        "id": "fN_znwxZSKeZ"
      },
      "outputs": [],
      "source": [
        "# Group Activity: DS 11\n"
      ]
    },
    {
      "cell_type": "code",
      "source": [
        "# Task 1. Largest Difference in List\n",
        "\n",
        "\n",
        "# This function finds the largest difference between two numbers in a list, where the bigger number comes after the smaller one.\n",
        "\n",
        "def largest_difference(nums):\n",
        "    if not nums or len(nums) < 2:\n",
        "        return 0\n",
        "\n",
        "    min_val = nums[0]  # first number as the minimum\n",
        "    max_diff = 0       # max difference to 0 at the beginning\n",
        "\n",
        "    for num in nums[1:]:\n",
        "        if num > min_val:\n",
        "            max_diff = max(max_diff, num - min_val)\n",
        "        else:\n",
        "            # updating min_val if we find a smaller number\n",
        "            min_val = min(min_val, num)\n",
        "\n",
        "    return max_diff\n",
        "\n",
        "\n",
        "print(\"Largest difference:\", largest_difference([1, 2, 90, 10, 110]))\n"
      ],
      "metadata": {
        "colab": {
          "base_uri": "https://localhost:8080/"
        },
        "id": "wcAyGNkjS6Cr",
        "outputId": "7cf67aaa-be7a-4622-accf-ab0eebe72816"
      },
      "execution_count": 32,
      "outputs": [
        {
          "output_type": "stream",
          "name": "stdout",
          "text": [
            "Largest difference: 109\n"
          ]
        }
      ]
    },
    {
      "cell_type": "code",
      "source": [
        "# Task 2. First Non-Repeating Character\n",
        "\n",
        "\n",
        "# This function returns the first character in a string that doesn't repeat. If no non-repeating character is found, it returns None.\n",
        "\n",
        "\n",
        "from collections import Counter\n",
        "\n",
        "def first_non_repeating_char(s):\n",
        "    freq = Counter(s)\n",
        "\n",
        "    for ch in s:\n",
        "        if freq[ch] == 1:\n",
        "            return ch  # first non-repeating character\n",
        "\n",
        "    return None  # If all characters repeat\n",
        "\n",
        "\n",
        "test_cases = [\n",
        "    \"aabcc\",\n",
        "    \"aabbcc\",\n",
        "    \"leetcode\",\n",
        "    \"xxyyz\",\n",
        "    \"abcabcabc\",\n",
        "    \"mango\",\n",
        "]\n",
        "\n",
        "for test in test_cases:\n",
        "    result = first_non_repeating_char(test)\n",
        "    print(f\"Input: '{test}' ➝ Output: {result}\")\n"
      ],
      "metadata": {
        "colab": {
          "base_uri": "https://localhost:8080/"
        },
        "id": "mWUhlRRrZfRl",
        "outputId": "863c4f12-c4e1-4b17-9379-0350d7e7314d"
      },
      "execution_count": 31,
      "outputs": [
        {
          "output_type": "stream",
          "name": "stdout",
          "text": [
            "Input: 'aabcc' ➝ Output: b\n",
            "Input: 'aabbcc' ➝ Output: None\n",
            "Input: 'leetcode' ➝ Output: l\n",
            "Input: 'xxyyz' ➝ Output: z\n",
            "Input: 'abcabcabc' ➝ Output: None\n",
            "Input: 'mango' ➝ Output: m\n"
          ]
        }
      ]
    },
    {
      "cell_type": "code",
      "source": [
        "# Task 3. Check If Strings Are Permutations\n",
        "\n",
        "\n",
        "# This function checks if two strings are permutations of each other. It returns True if they have the same characters with the same counts, otherwise False.\n",
        "\n",
        "from collections import Counter\n",
        "\n",
        "def are_permutations(s1, s2):\n",
        "    if len(s1) != len(s2):\n",
        "        return False\n",
        "\n",
        "    return Counter(s1) == Counter(s2)  # Compare the frequency of each character\n",
        "\n",
        "test_cases = [\n",
        "    (\"abc\", \"bca\"),\n",
        "    (\"abc\", \"abcd\"),\n",
        "    (\"listen\", \"silent\"),\n",
        "    (\"hello\", \"bello\"),\n",
        "    (\"\", \"\"),\n",
        "]\n",
        "\n",
        "for s1, s2 in test_cases:\n",
        "    result = are_permutations(s1, s2)\n",
        "    print(f\"Input: '{s1}' & '{s2}' ➝ Output: {result}\")"
      ],
      "metadata": {
        "colab": {
          "base_uri": "https://localhost:8080/"
        },
        "id": "EM-UoigHezIg",
        "outputId": "e327f33c-cd5e-4a1c-9932-032ac1a8a4e4"
      },
      "execution_count": 30,
      "outputs": [
        {
          "output_type": "stream",
          "name": "stdout",
          "text": [
            "Input: 'abc' & 'bca' ➝ Output: True\n",
            "Input: 'abc' & 'abcd' ➝ Output: False\n",
            "Input: 'listen' & 'silent' ➝ Output: True\n",
            "Input: 'hello' & 'bello' ➝ Output: False\n",
            "Input: '' & '' ➝ Output: True\n"
          ]
        }
      ]
    },
    {
      "cell_type": "code",
      "source": [
        "# Task 4. Find the Second Largest Unique Number\n",
        "\n",
        "# This function returns the second largest unique number from the list. if there isn't a second largest unique number, it returns None.\n",
        "\n",
        "def second_largest_unique(nums):\n",
        "    unique_nums = list(set(nums))\n",
        "    if len(unique_nums) < 2:\n",
        "        return None\n",
        "    unique_nums.sort(reverse=True)\n",
        "    return unique_nums[1]\n",
        "\n",
        "\n",
        "test_cases = [\n",
        "    [4, 5, 6, 6, 7],\n",
        "    [1, 1, 1],\n",
        "    [],\n",
        "    [10, 20],\n",
        "]\n",
        "\n",
        "for nums in test_cases:\n",
        "    result = second_largest_unique(nums)\n",
        "    print(f\"Input: {nums} ➝ Output: {result}\")\n"
      ],
      "metadata": {
        "colab": {
          "base_uri": "https://localhost:8080/"
        },
        "id": "JGVm9Y06g1Ix",
        "outputId": "b2e26cde-e345-449b-a748-748d5fb4571e"
      },
      "execution_count": 29,
      "outputs": [
        {
          "output_type": "stream",
          "name": "stdout",
          "text": [
            "Input: [4, 5, 6, 6, 7] ➝ Output: 6\n",
            "Input: [1, 1, 1] ➝ Output: None\n",
            "Input: [] ➝ Output: None\n",
            "Input: [10, 20] ➝ Output: 10\n"
          ]
        }
      ]
    },
    {
      "cell_type": "code",
      "source": [
        "# Task 5. Count Distinct Pairs\n",
        "\n",
        "\n",
        "# This function counts how many unique pairs of numbers in the list add up to the given target. it avoids counting the same pair more than once.\n",
        "\n",
        "def count_distinct_pairs(nums, target):\n",
        "    seen = set()\n",
        "    pairs = set()\n",
        "\n",
        "    for num in nums:\n",
        "        if target - num in seen:\n",
        "            pairs.add(tuple(sorted((num, target - num))))\n",
        "        seen.add(num)\n",
        "\n",
        "    return len(pairs)\n",
        "\n",
        "\n",
        "test_cases = [\n",
        "    ([1, 2, 3, 4, 3, 6], 6),\n",
        "    ([3, 3, 3], 6),\n",
        "    ([1, 1, 1, 1], 2),\n",
        "    ([5, 5, 5, 5], 10),\n",
        "]\n",
        "\n",
        "for test in test_cases:\n",
        "    nums = test[0]\n",
        "    target = test[1]\n",
        "    result = count_distinct_pairs(nums, target)\n",
        "    print(\"Input:\", nums, \"Target:\", target, \"➝ Output:\", result)\n"
      ],
      "metadata": {
        "colab": {
          "base_uri": "https://localhost:8080/"
        },
        "id": "uiZaNt5-jh9I",
        "outputId": "696a54e1-7623-4e78-8125-1571cf0c7a94"
      },
      "execution_count": 28,
      "outputs": [
        {
          "output_type": "stream",
          "name": "stdout",
          "text": [
            "Input: [1, 2, 3, 4, 3, 6] Target: 6 ➝ Output: 2\n",
            "Input: [3, 3, 3] Target: 6 ➝ Output: 1\n",
            "Input: [1, 1, 1, 1] Target: 2 ➝ Output: 1\n",
            "Input: [5, 5, 5, 5] Target: 10 ➝ Output: 1\n"
          ]
        }
      ]
    },
    {
      "cell_type": "code",
      "source": [
        "# Task 6. Remove Duplicates from List\n",
        "\n",
        "# This function removes all duplicates from the list while keeping the original order.\n",
        "\n",
        "def remove_duplicates(nums):\n",
        "    seen = set()\n",
        "    result = []\n",
        "\n",
        "    for num in nums:\n",
        "        if num not in seen:\n",
        "            seen.add(num)\n",
        "            result.append(num)\n",
        "\n",
        "    return result\n",
        "\n",
        "\n",
        "test_cases = [\n",
        "    [1, 2, 2, 3, 4, 5, 1],\n",
        "    [5, 5, 5, 5],\n",
        "    [],\n",
        "    [1, 2, 3],\n",
        "]\n",
        "\n",
        "for nums in test_cases:\n",
        "    result = remove_duplicates(nums)\n",
        "    print(f\"Input: {nums} ➝ Output: {result}\")\n"
      ],
      "metadata": {
        "colab": {
          "base_uri": "https://localhost:8080/"
        },
        "id": "ZbA3brP_juXN",
        "outputId": "4c554baf-7ce4-4d0a-b228-e31d27ae6b22"
      },
      "execution_count": 27,
      "outputs": [
        {
          "output_type": "stream",
          "name": "stdout",
          "text": [
            "Input: [1, 2, 2, 3, 4, 5, 1] ➝ Output: [1, 2, 3, 4, 5]\n",
            "Input: [5, 5, 5, 5] ➝ Output: [5]\n",
            "Input: [] ➝ Output: []\n",
            "Input: [1, 2, 3] ➝ Output: [1, 2, 3]\n"
          ]
        }
      ]
    },
    {
      "cell_type": "code",
      "source": [
        "# Task 7. Subsets of a List\n",
        "\n",
        "# This function returns all possible subsets (the power set) of the list.\n",
        "\n",
        "def subsets(nums):\n",
        "    result = [[]]\n",
        "\n",
        "    for num in nums:\n",
        "        result += [item + [num] for item in result]\n",
        "\n",
        "    return result\n",
        "\n",
        "\n",
        "test_cases = [\n",
        "    [1, 2, 3],\n",
        "    [],\n",
        "    [4],\n",
        "]\n",
        "\n",
        "for nums in test_cases:\n",
        "    result = subsets(nums)\n",
        "    print(f\"Input: {nums} ➝ Output: {result}\")\n"
      ],
      "metadata": {
        "colab": {
          "base_uri": "https://localhost:8080/"
        },
        "id": "jN1jB9t4mAKP",
        "outputId": "fc70138b-076a-446c-a187-147c3842b46a"
      },
      "execution_count": 26,
      "outputs": [
        {
          "output_type": "stream",
          "name": "stdout",
          "text": [
            "Input: [1, 2, 3] ➝ Output: [[], [1], [2], [1, 2], [3], [1, 3], [2, 3], [1, 2, 3]]\n",
            "Input: [] ➝ Output: [[]]\n",
            "Input: [4] ➝ Output: [[], [4]]\n"
          ]
        }
      ]
    },
    {
      "cell_type": "code",
      "source": [
        "# Task 8. Longest Increasing Subsequence (Simple Version)\n",
        "\n",
        "\n",
        "# This function finds the length of the longest subsequence where numbers keep increasing.\n",
        "\n",
        "def longest_increasing_subsequence(numbers):\n",
        "    if not numbers:\n",
        "        return 0\n",
        "\n",
        "    dp = [1] * len(nums)\n",
        "\n",
        "    for i in range(len(nums)):\n",
        "        for j in range(i):\n",
        "            if nums[j] < nums[i]:\n",
        "                dp[i] = max(dp[i], dp[j] + 1)\n",
        "\n",
        "    return max(dp)\n",
        "\n",
        "\n",
        "test_cases = [\n",
        "    [10, 9, 2, 5, 3, 7, 101, 18],\n",
        "    [3, 2, 1],\n",
        "    [],\n",
        "    [1, 2, 3, 4],\n",
        "]\n",
        "\n",
        "for nums in test_cases:\n",
        "    result = longest_increasing_subsequence(nums)\n",
        "    print(f\"Input: {nums} ➝ Output: {result}\")\n"
      ],
      "metadata": {
        "colab": {
          "base_uri": "https://localhost:8080/"
        },
        "id": "fVI_l-c7mTE8",
        "outputId": "dc6a1c88-5b2c-49cf-ce49-137b3716847b"
      },
      "execution_count": 24,
      "outputs": [
        {
          "output_type": "stream",
          "name": "stdout",
          "text": [
            "Input: [10, 9, 2, 5, 3, 7, 101, 18] ➝ Output: 4\n",
            "Input: [3, 2, 1] ➝ Output: 1\n",
            "Input: [] ➝ Output: 0\n",
            "Input: [1, 2, 3, 4] ➝ Output: 4\n"
          ]
        }
      ]
    },
    {
      "cell_type": "code",
      "source": [
        "# Task 9. Maximum Product of Two Numbers\n",
        "\n",
        "# This function finds the maximum product of any two numbers in the list.\n",
        "\n",
        "def max_product(nums):\n",
        "    nums.sort()\n",
        "    return max(nums[0] * nums[1], nums[-1] * nums[-2])\n",
        "\n",
        "\n",
        "test_cases = [\n",
        "    [1, 10, -5, 1, 100],\n",
        "    [-10, -20, 5, 6],\n",
        "    [0, 2, 3],\n",
        "]\n",
        "\n",
        "for nums in test_cases:\n",
        "    result = max_product(nums)\n",
        "    print(f\"Input: {nums} ➝ Output: {result}\")\n"
      ],
      "metadata": {
        "colab": {
          "base_uri": "https://localhost:8080/"
        },
        "id": "hzNQZBo7me-l",
        "outputId": "c67d8fb5-8e8a-414d-9dde-d4a90411ad38"
      },
      "execution_count": 23,
      "outputs": [
        {
          "output_type": "stream",
          "name": "stdout",
          "text": [
            "Input: [-5, 1, 1, 10, 100] ➝ Output: 1000\n",
            "Input: [-20, -10, 5, 6] ➝ Output: 200\n",
            "Input: [0, 2, 3] ➝ Output: 6\n"
          ]
        }
      ]
    },
    {
      "cell_type": "code",
      "source": [
        "# Task 10. Frequency of Characters in String\n",
        "\n",
        "# This function returns the character that appears the most. If there’s a tie, it returns the smallest one alphabetically.\n",
        "\n",
        "from collections import Counter\n",
        "\n",
        "def most_frequent_char(s):\n",
        "    if not s:\n",
        "        return None\n",
        "\n",
        "    frequency = Counter(s)\n",
        "    max_count = max(frequency.values())\n",
        "    candidates = [char for char, count in frequency.items() if count == max_count]\n",
        "\n",
        "    return min(candidates)\n",
        "\n",
        "\n",
        "test_cases = [\n",
        "    \"aabbbc\",\n",
        "    \"abcabcabc\",\n",
        "    \"zzzzaaaa\",\n",
        "    \"\",\n",
        "]\n",
        "\n",
        "for s in test_cases:\n",
        "    result = most_frequent_char(s)\n",
        "    print(f\"Input: '{s}' ➝ Output: {result}\")\n"
      ],
      "metadata": {
        "colab": {
          "base_uri": "https://localhost:8080/"
        },
        "id": "HIdMXPSomphz",
        "outputId": "aa8c921f-7066-4a90-d7db-722e143ae829"
      },
      "execution_count": 22,
      "outputs": [
        {
          "output_type": "stream",
          "name": "stdout",
          "text": [
            "Input: 'aabbbc' ➝ Output: b\n",
            "Input: 'abcabcabc' ➝ Output: a\n",
            "Input: 'zzzzaaaa' ➝ Output: a\n",
            "Input: '' ➝ Output: None\n"
          ]
        }
      ]
    }
  ]
}